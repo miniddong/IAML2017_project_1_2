{
 "cells": [
  {
   "cell_type": "code",
   "execution_count": 4,
   "metadata": {
    "collapsed": true
   },
   "outputs": [],
   "source": [
    "import train\n",
    "from constant import Constant\n",
    "from parameters import Parameters"
   ]
  },
  {
   "cell_type": "code",
   "execution_count": 5,
   "metadata": {
    "collapsed": true
   },
   "outputs": [],
   "source": [
    "### MAIN.py\n",
    "project_constant = Constant.Project2\n",
    "data_constant = Constant.Data.ChromaStftHop512\n",
    "experiment_parameters = Parameters.Attention.Experiment1\n",
    "is_training = True\n",
    "\n",
    "def main():\n",
    "    if is_training:\n",
    "        train.train(project_constant, data_constant, experiment_parameters)\n",
    "    return None"
   ]
  },
  {
   "cell_type": "code",
   "execution_count": 6,
   "metadata": {},
   "outputs": [
    {
     "name": "stdout",
     "output_type": "stream",
     "text": [
      "5863\n",
      "WARNING:tensorflow:<tensorflow.python.ops.rnn_cell_impl.BasicLSTMCell object at 0x12867a588>: Using a concatenated state is slower and will soon be deprecated.  Use state_is_tuple=True.\n",
      "WARNING:tensorflow:<tensorflow.contrib.rnn.python.ops.rnn_cell.AttentionCellWrapper object at 0x12863e780>: Using a concatenated state is slower and will soon be deprecated.  Use state_is_tuple=True.\n",
      "WARNING:tensorflow:<tensorflow.python.ops.rnn_cell_impl.BasicLSTMCell object at 0x11053c588>: Using a concatenated state is slower and will soon be deprecated.  Use state_is_tuple=True.\n",
      "WARNING:tensorflow:<tensorflow.contrib.rnn.python.ops.rnn_cell.AttentionCellWrapper object at 0x11053c438>: Using a concatenated state is slower and will soon be deprecated.  Use state_is_tuple=True.\n"
     ]
    },
    {
     "name": "stderr",
     "output_type": "stream",
     "text": [
      "  0%|          | 0/2 [00:00<?, ?it/s]\n",
      "  0%|          | 0/10 [00:00<?, ?it/s]\u001b[A\n",
      " 10%|█         | 1/10 [00:11<01:39, 11.08s/it]\u001b[A\n",
      " 20%|██        | 2/10 [00:13<01:07,  8.43s/it]\u001b[A\n",
      " 30%|███       | 3/10 [00:15<00:46,  6.58s/it]\u001b[A\n",
      " 40%|████      | 4/10 [00:17<00:31,  5.32s/it]\u001b[A\n",
      " 50%|█████     | 5/10 [00:20<00:22,  4.46s/it]\u001b[A\n",
      " 60%|██████    | 6/10 [00:22<00:15,  3.85s/it]\u001b[A\n",
      " 70%|███████   | 7/10 [00:25<00:10,  3.43s/it]\u001b[A\n",
      " 80%|████████  | 8/10 [00:27<00:06,  3.15s/it]\u001b[A\n",
      " 90%|█████████ | 9/10 [00:30<00:02,  2.95s/it]\u001b[A\n",
      "100%|██████████| 10/10 [00:32<00:00,  2.81s/it]\u001b[A\n",
      " 50%|█████     | 1/2 [00:34<00:34, 34.47s/it]\n",
      "  0%|          | 0/10 [00:00<?, ?it/s]\u001b[A\n",
      " 10%|█         | 1/10 [00:02<00:21,  2.41s/it]\u001b[A\n",
      " 20%|██        | 2/10 [00:04<00:19,  2.45s/it]\u001b[A\n",
      " 30%|███       | 3/10 [00:07<00:17,  2.47s/it]\u001b[A\n",
      " 40%|████      | 4/10 [00:09<00:14,  2.48s/it]\u001b[A\n",
      " 50%|█████     | 5/10 [00:12<00:12,  2.52s/it]\u001b[A\n",
      " 60%|██████    | 6/10 [00:15<00:10,  2.52s/it]\u001b[A\n",
      " 70%|███████   | 7/10 [00:17<00:07,  2.50s/it]\u001b[A\n",
      " 80%|████████  | 8/10 [00:20<00:05,  2.51s/it]\u001b[A\n",
      " 90%|█████████ | 9/10 [00:22<00:02,  2.49s/it]\u001b[A\n",
      "100%|██████████| 10/10 [00:25<00:00,  2.48s/it]\u001b[A\n",
      "100%|██████████| 2/2 [01:01<00:00, 32.09s/it]\n"
     ]
    }
   ],
   "source": [
    "main()"
   ]
  },
  {
   "cell_type": "code",
   "execution_count": null,
   "metadata": {
    "collapsed": true
   },
   "outputs": [],
   "source": []
  }
 ],
 "metadata": {
  "kernelspec": {
   "display_name": "Python 3",
   "language": "python",
   "name": "python3"
  },
  "language_info": {
   "codemirror_mode": {
    "name": "ipython",
    "version": 3
   },
   "file_extension": ".py",
   "mimetype": "text/x-python",
   "name": "python",
   "nbconvert_exporter": "python",
   "pygments_lexer": "ipython3",
   "version": "3.6.1"
  }
 },
 "nbformat": 4,
 "nbformat_minor": 2
}
