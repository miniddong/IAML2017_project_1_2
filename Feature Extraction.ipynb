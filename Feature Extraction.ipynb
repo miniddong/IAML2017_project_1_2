{
 "cells": [
  {
   "cell_type": "markdown",
   "metadata": {},
   "source": [
    "### Feature Extraction\n",
    "- pkl을 로드해서 사용하는 부분 next_batch에 추가하기 (given이 true이면 하고 아니면 원래대로 하는 것으로)\n",
    "- 한 노래 돌때 피쳐 모두 뽑아서 각각 저장하기"
   ]
  },
  {
   "cell_type": "code",
   "execution_count": null,
   "metadata": {
    "collapsed": true
   },
   "outputs": [],
   "source": [
    "import os\n",
    "import numpy as np\n",
    "import pandas as pd\n",
    "import features\n",
    "from scipy import stats\n",
    "import librosa\n",
    "from tqdm import *\n",
    "import pickle"
   ]
  },
  {
   "cell_type": "code",
   "execution_count": null,
   "metadata": {
    "collapsed": true
   },
   "outputs": [],
   "source": [
    "def test(feature_name, split_method):\n",
    "    with open('{}_{}.pkl'.format(feature_name, split_method), 'wb') as f:\n",
    "        pickle.dump(\n",
    "            get_tid_feature_pairs(\n",
    "                get_track_ids(\n",
    "                    split_df(\n",
    "                        build_metadata_df('dataset/track_metadata.csv')\n",
    "                        , split_method\n",
    "                    )\n",
    "                )\n",
    "                , feature_name\n",
    "            )\n",
    "            , f\n",
    "        )\n",
    "\n",
    "def build_metadata_df(filepath):\n",
    "    return pd.read_csv(filepath)\n",
    "\n",
    "def split_df(metadata_df, split_method):\n",
    "    return metadata_df[metadata_df['set_split'] == split_method]\n",
    "\n",
    "def get_track_ids(metadata_df):\n",
    "    return metadata_df['track_id'].values\n",
    "\n",
    "test('rmse', 'training')\n",
    "test('rmse', 'validation')\n",
    "test('spectral_contrast', 'training')\n",
    "test('spectral_contrast', 'validation')\n",
    "\n",
    "# TODO : dictionary 로 track_id : array로 받아서 나중에 array로 바꾸는게 낫지 않을까? 현재는 일단 그냥 함.\n",
    "# TODO : get_feature_by_tid로 바꾸기"
   ]
  },
  {
   "cell_type": "code",
   "execution_count": null,
   "metadata": {},
   "outputs": [],
   "source": [
    "def get_tid_feature_pairs(tids, feature_name):\n",
    "    tid_feature_pairs = list()\n",
    "    \n",
    "    for tid in tqdm_notebook(tids):\n",
    "        try:\n",
    "            x, sr = load_audio_as_librosa_format(\n",
    "                get_audio_path('music/music_training', tid)\n",
    "                , DURATION=29.0\n",
    "            )\n",
    "            \n",
    "            tid_feature_pairs.append((\n",
    "                tid\n",
    "                , np.array(validate_feature(tid, \n",
    "                     compute_feature(\n",
    "                         cut_x(x.tolist(), THRESHOLD=1278900)\n",
    "                         , feature_name\n",
    "                     )\n",
    "                ))\n",
    "            ))\n",
    "        except Exception as e:\n",
    "            print('{}: {}'.format(tid, repr(e)))\n",
    "\n",
    "    return tid_feature_pairs\n",
    "\n",
    "def get_audio_path(audio_dir, track_id):\n",
    "    tid_str = '{:06d}'.format(track_id)\n",
    "    return os.path.join(audio_dir, tid_str[:3], tid_str + '.mp3')\n",
    "\n",
    "def load_audio_as_librosa_format(filepath, DURATION):\n",
    "    return librosa.load(filepath, sr=None, mono=True, duration=DURATION)  # kaiser_fast\n",
    "\n",
    "def cut_x(x, THRESHOLD):\n",
    "    if not (len(x)<THRESHOLD):\n",
    "        return np.array(x[:THRESHOLD])\n",
    "    else:\n",
    "        raise ValueError('song length is shorter than threshold')\n",
    "\n",
    "def compute_feature(cutted_x, feature_name):\n",
    "    if feature_name == 'chroma_stft':\n",
    "        return get_chroma_stft(cutted_x).tolist()\n",
    "    if feature_name == 'rmse':\n",
    "        return get_rmse(cutted_x).tolist()\n",
    "    if feature_name == 'spectral_contrast':\n",
    "        return get_spectral_contrast(cutted_x).tolist()\n",
    "    \n",
    "def validate_feature(tid, feature):\n",
    "    if feature ==0:\n",
    "        raise ValueError('tid {} has feature error'.format(tid))\n",
    "    else:\n",
    "        return feature\n",
    "\n",
    "def get_chroma_stft(cutted_x):\n",
    "    try:\n",
    "        return get_chhroma_stft(\n",
    "            get_stft(cutted_x)\n",
    "            , N_CHROMA=12\n",
    "        )\n",
    "    except Exception as e:\n",
    "        print(str(e))\n",
    "        raise ValueError(\"validate_stft error\")\n",
    "        \n",
    "def get_stft(cutted_x):\n",
    "    return validate_stft(\n",
    "        compute_stft(cutted_x\n",
    "            , N_FFT=2048\n",
    "            , HOP_LENGTH=512\n",
    "        )\n",
    "        , cutted_x\n",
    "        , N_FFT=2048\n",
    "        , HOP_LENGTH=512\n",
    "    )\n",
    "    \n",
    "def compute_stft(x, N_FFT, HOP_LENGTH):\n",
    "    return np.abs(librosa.stft(x, n_fft=N_FFT, hop_length=HOP_LENGTH))\n",
    "\n",
    "def validate_stft(stft, x, N_FFT, HOP_LENGTH):\n",
    "    assert stft.shape[0] == 1 + N_FFT // 2\n",
    "    assert np.ceil(len(x) / HOP_LENGTH) \\\n",
    "        <= stft.shape[1] \\\n",
    "        <= np.ceil(len(x) / HOP_LENGTH) + 1\n",
    "    return stft\n",
    "\n",
    "def compute_chhroma_stft(stft, N_CHROMA):\n",
    "    return librosa.feature.chroma_stft(S=stft ** 2, n_chroma=N_CHROMA) \n",
    "\n",
    "def get_rmse(cutted_x):\n",
    "    try:\n",
    "        return compute_rmse(\n",
    "            get_stft(cutted_x)\n",
    "        )\n",
    "    except Exception as e:\n",
    "        print(str(e))\n",
    "        raise ValueError(\"validate_stft error\")\n",
    "        \n",
    "def compute_rmse(stft):\n",
    "    return librosa.feature.rmse(S=stft)\n",
    "\n",
    "def get_spectral_contrast(cutted_x):\n",
    "    try:\n",
    "        return compute_spectral_contrast(\n",
    "            get_stft(cutted_x)\n",
    "            , N_BANDS = 6\n",
    "        )\n",
    "    except Exception as e:\n",
    "        print(str(e))\n",
    "        raise ValueError(\"validate_stft error\")\n",
    "        \n",
    "def compute_spectral_contrast(stft, N_BANDS):\n",
    "    return librosa.feature.spectral_contrast(S=stft, n_bands=N_BANDS)"
   ]
  },
  {
   "cell_type": "code",
   "execution_count": null,
   "metadata": {
    "collapsed": true
   },
   "outputs": [],
   "source": []
  }
 ],
 "metadata": {
  "anaconda-cloud": {},
  "kernelspec": {
   "display_name": "Python 3",
   "language": "python",
   "name": "python3"
  },
  "language_info": {
   "codemirror_mode": {
    "name": "ipython",
    "version": 3
   },
   "file_extension": ".py",
   "mimetype": "text/x-python",
   "name": "python",
   "nbconvert_exporter": "python",
   "pygments_lexer": "ipython3",
   "version": "3.6.1"
  },
  "widgets": {
   "state": {
    "0f93fef3b9eb455880073bf767e32d3b": {
     "views": [
      {
       "cell_index": 2
      }
     ]
    },
    "16ea2cc3456e49dbb6cd8c27ed1c7ace": {
     "views": [
      {
       "cell_index": 2
      }
     ]
    },
    "77cbd6655a874e26a260992439c936a2": {
     "views": [
      {
       "cell_index": 2
      }
     ]
    },
    "991cad5c718a47cbaef96059a49cdff7": {
     "views": [
      {
       "cell_index": 2
      }
     ]
    },
    "beea3ebca8774da1b31acace9257e70f": {
     "views": [
      {
       "cell_index": 2
      }
     ]
    },
    "e4d285ed664e4df7b9e5787abe1049a6": {
     "views": [
      {
       "cell_index": 2
      }
     ]
    }
   },
   "version": "1.2.0"
  }
 },
 "nbformat": 4,
 "nbformat_minor": 2
}
